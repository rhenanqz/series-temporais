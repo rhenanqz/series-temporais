{
  "cells": [
    {
      "cell_type": "code",
      "execution_count": null,
      "metadata": {
        "collapsed": false
      },
      "outputs": [],
      "source": [
        "%matplotlib inline"
      ]
    },
    {
      "cell_type": "markdown",
      "metadata": {},
      "source": [
        "\n",
        "# SiftConfig Specification\n",
        "Here we look at how to customise the different parts of the sift algorithm.\n",
        "There are many options which can be customised from top level sift parameters\n",
        "all the way down to extrema detection.\n"
      ]
    },
    {
      "cell_type": "markdown",
      "metadata": {},
      "source": [
        "## The SiftConfig object\n",
        "EMD can create a config dictionary which contains all the options that can be\n",
        "customised for a given sift function. This can be created using the\n",
        "get_config function in the sift submodule. Lets import emd and create the\n",
        "config for a standard sift - we can view the options by calling print on the\n",
        "config.\n",
        "\n",
        "The SiftConfig dictionary contains all the arguments for functions that\n",
        "are used in the sift algorithm.\n",
        "\n",
        "- \"sift\" contains arguments for the high level sift functions such as ``emd.sift.sift`` or ``emd.sift.ensemble_sift``\n",
        "- \"imf\" contains arguments for ``emd.sift.get_next_imf``\n",
        "- \"envelope\" contains arguments for ``emd.sift.interpolate_envelope``\n",
        "- \"extrema\", \"mag_pad\" and  \"loc_pad\" have arguments for extrema detection and padding\n",
        "\n"
      ]
    },
    {
      "cell_type": "code",
      "execution_count": null,
      "metadata": {
        "collapsed": false
      },
      "outputs": [],
      "source": [
        "# sphinx_gallery_thumbnail_path = '_static/emd_siftconfig_thumb.png'\n",
        "\n",
        "import emd\n",
        "import numpy as np\n",
        "\n",
        "config = emd.sift.get_config('sift')\n",
        "print(config)"
      ]
    },
    {
      "cell_type": "markdown",
      "metadata": {},
      "source": [
        "These arguments are specific for the each type of sift (particularly at the top \"sift\" level).\n",
        "\n"
      ]
    },
    {
      "cell_type": "code",
      "execution_count": null,
      "metadata": {
        "collapsed": false
      },
      "outputs": [],
      "source": [
        "config = emd.sift.get_config('complete_ensemble_sift')\n",
        "print(config)"
      ]
    },
    {
      "cell_type": "markdown",
      "metadata": {},
      "source": [
        "The SiftConfig dictionary contains arguments and default values for functions\n",
        "which are called internally within the different sift implementations. The\n",
        "dictionary can be used for viewing and editing the options before they are\n",
        "passed into the sift function.\n",
        "\n",
        "The SiftConfig dictionary is nested, in that some items in the dictionary\n",
        "store further dictionaries of options. This hierarchy of options reflects\n",
        "where the options are used in the sift process. The top-level of the\n",
        "dictionary contains arguments which may be passed directly to the sift\n",
        "functions, whilst options needed for internal function calls are stored in\n",
        "nested subdictionaries.\n",
        "\n",
        "The parameters in the config can be changed in the same way we would change\n",
        "the key-value pairs in a nested dictionary or using a h5py inspiried shorthand.\n",
        "\n"
      ]
    },
    {
      "cell_type": "code",
      "execution_count": null,
      "metadata": {
        "collapsed": false
      },
      "outputs": [],
      "source": [
        "# This is a top-level argument used directly by ensemble_sift\n",
        "config['nensembles'] = 20\n",
        "config['nprocesses'] = 4\n",
        "config['max_imfs'] = 5\n",
        "\n",
        "# This is a sub-arguemnt used by interp_envelope, which is called within\n",
        "# ensemble_sift.\n",
        "\n",
        "# Standard\n",
        "config['extrema_opts']['pad_width'] = 4\n",
        "# Shorthard\n",
        "config['extrema_opts/pad_width'] = 4\n",
        "\n",
        "print(config)"
      ]
    },
    {
      "cell_type": "markdown",
      "metadata": {},
      "source": [
        "This nested shorthand can be used to customise the low level extrema padding options\n",
        "\n"
      ]
    },
    {
      "cell_type": "code",
      "execution_count": null,
      "metadata": {
        "collapsed": false
      },
      "outputs": [],
      "source": [
        "# Standard\n",
        "#config['extrema_opts']['loc_pad_opts']['reflect_type'] = 'even'\n",
        "# Shorthand\n",
        "config['extrema_opts/mag_pad_opts/stat_length'] = 3\n",
        "config['extrema_opts'] = {}\n",
        "\n",
        "print(config)\n",
        "\n",
        "# This nested structure is passed as an unpacked dictionary to our sift function.\n",
        "\n",
        "# Create some random data\n",
        "x = np.random.randn(1000,)\n",
        "\n",
        "imf = emd.sift.complete_ensemble_sift(x, **config)"
      ]
    },
    {
      "cell_type": "markdown",
      "metadata": {},
      "source": [
        "## Customised sifting with functools.partial\n",
        "\n",
        "If you are going to be repeatedly calling a sift function with the same\n",
        "arguments many times, you could consider creating a partial function to\n",
        "simplify the code. Partial functions are a part of the ``functools`` module\n",
        "in python. They act like normal functions but with fixed values for certain\n",
        "arguments.\n",
        "\n",
        "This means we could specify our sift config and use it to create a partial\n",
        "function which only needs the data to be passed in as an argument. For\n",
        "example:\n",
        "\n"
      ]
    },
    {
      "cell_type": "code",
      "execution_count": null,
      "metadata": {
        "collapsed": false
      },
      "outputs": [],
      "source": [
        "# Create a mask sift config object and customise some options\n",
        "config = emd.sift.get_config('mask_sift')\n",
        "config['max_imfs'] = 5\n",
        "config['mask_amp_mode'] = 'ratio_sig'\n",
        "config['envelope_opts/interp_method'] = 'mono_pchip'\n",
        "\n",
        "# Create a partial function - my_mask_sift is now a function with the arguments\n",
        "# in config fixed as defaults.\n",
        "from functools import partial\n",
        "my_mask_sift = partial(emd.sift.mask_sift, **config)\n",
        "\n",
        "# my_mask_sift can then be called with the input data as the only argument.\n",
        "imfs = my_mask_sift(x)"
      ]
    },
    {
      "cell_type": "markdown",
      "metadata": {},
      "source": [
        "We can compare the different options for ``emd.sift.mask_sift`` and\n",
        "``my_mask_sift`` using the python inspect module to print the default\n",
        "arguments (or function signature) for each function.\n",
        "\n"
      ]
    },
    {
      "cell_type": "code",
      "execution_count": null,
      "metadata": {
        "collapsed": false
      },
      "outputs": [],
      "source": [
        "import inspect\n",
        "print('emd.sift.mask_sift')\n",
        "print(inspect.signature(emd.sift.mask_sift))\n",
        "print()\n",
        "print('my_mask_sift')\n",
        "print(inspect.signature(my_mask_sift))"
      ]
    },
    {
      "cell_type": "markdown",
      "metadata": {},
      "source": [
        "We can see that the input arguments in the signature of ``my_mask_sift``\n",
        "contains all the specified options from the ``config`` so is much longer than\n",
        "for ``emd.sift.mask_sift``.\n",
        "\n"
      ]
    },
    {
      "cell_type": "markdown",
      "metadata": {},
      "source": [
        "## Saving and loading sift config files\n",
        "\n",
        "We might often want to store, reuse and share sift configurations during a\n",
        "project. To help with this, a SiftConfig specification can be stored as a raw\n",
        "text file in the YAML format. The config can be saved into a text file and\n",
        "loaded back into a SiftConfig object for use in a script. We can also\n",
        "directly edit the text file to customise the sift parameters from there if\n",
        "preferred. The save and load operations are performed by\n",
        "``emd.sift.SiftConfig.to_yaml_file`` and\n",
        "``emd.sift.SiftConfig.from_yaml_file`` respectively.\n",
        "\n",
        "Lets look at an example. We're going to store this config in a temporary file\n",
        "on your system for this tutorial. This avoids clutter and should work on all\n",
        "systems. If you would prefer to use a specific file on your system please\n",
        "comment out this section and simply specify ``config_file`` to be a path to\n",
        "the file of your choice.\n",
        "\n"
      ]
    },
    {
      "cell_type": "code",
      "execution_count": null,
      "metadata": {
        "collapsed": false
      },
      "outputs": [],
      "source": [
        "# Create a temporary file OR specify your own file path\n",
        "import tempfile\n",
        "config_file = tempfile.NamedTemporaryFile(prefix=\"ExampleSiftConfig_\").name\n",
        "# Or uncomment the following line and specify your own file\n",
        "#config_file = '/path/to/my/file'\n",
        "\n",
        "# Save the config into yaml format\n",
        "config.to_yaml_file(config_file)\n",
        "\n",
        "# Open the text file and print its contents\n",
        "with open(config_file, 'r') as f:\n",
        "    txt = f.read()\n",
        "print(txt)\n",
        "\n",
        "# Load the config back into a SiftConfig object for use in a script\n",
        "new_config = emd.sift.SiftConfig.from_yaml_file(config_file)"
      ]
    }
  ],
  "metadata": {
    "kernelspec": {
      "display_name": "Python 3",
      "language": "python",
      "name": "python3"
    },
    "language_info": {
      "codemirror_mode": {
        "name": "ipython",
        "version": 3
      },
      "file_extension": ".py",
      "mimetype": "text/x-python",
      "name": "python",
      "nbconvert_exporter": "python",
      "pygments_lexer": "ipython3",
      "version": "3.7.9"
    }
  },
  "nbformat": 4,
  "nbformat_minor": 0
}
