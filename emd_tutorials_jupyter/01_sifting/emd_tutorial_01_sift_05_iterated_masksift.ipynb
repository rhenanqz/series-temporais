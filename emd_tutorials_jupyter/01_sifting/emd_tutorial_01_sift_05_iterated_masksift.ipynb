{
  "cells": [
    {
      "cell_type": "code",
      "execution_count": null,
      "metadata": {
        "collapsed": false
      },
      "outputs": [],
      "source": [
        "%matplotlib inline"
      ]
    },
    {
      "cell_type": "markdown",
      "metadata": {},
      "source": [
        "\n# Iterated Masked sifting\nMasking signals are a powerful method for reducing the mode mixing problem when\nrunning EMD on noisy or transient signals. However, the standard methods for\nselecting masks often perform poorly in real data and selecting masks by hand\ncan be cumbersome and prone to error.\n\nThis tutorial interoduces iterated masking EMD (itEMD), a recent sifting method\nthat automates mask signal frequencies based on the dynamics present in the\ndata. We will show how it automatically dentifies oscillations and minimises\nmode mixing without prespecification of masking signals.\n\nThe method is published in the following paper:\n\nMarco S. Fabus, Andrew J. Quinn, Catherine E. Warnaby, and Mark W. Woolrich (2021).\nAutomatic decomposition of electroptysiological data into distinct nonsinusoidal oscillatory modes.\nJournal of Neurophysiology 2021 126:5, 1670-1684.\nhttps://doi.org/10.1152/jn.00315.2021\n"
      ]
    },
    {
      "cell_type": "markdown",
      "metadata": {},
      "source": [
        "## Issues with Mask Selection\n\n"
      ]
    },
    {
      "cell_type": "markdown",
      "metadata": {},
      "source": [
        "Let's start by simulating a signal with a 2Hz nonsinusoidal oscillation and 30Hz beta bursts.\n\n"
      ]
    },
    {
      "cell_type": "code",
      "execution_count": null,
      "metadata": {
        "collapsed": false
      },
      "outputs": [],
      "source": [
        "import numpy as np\nimport matplotlib.pyplot as plt\nimport emd\n\nnp.random.seed(0)\nsample_rate = 256\nseconds = 3\nnum_samples = sample_rate*seconds\n\ntime_vect = np.linspace(0, seconds, num_samples)\n\n# Create an amplitude modulation\nfreq = 2\nam = np.sin(2*np.pi*freq*time_vect)\nam[am < 0] = 0\n\n# Non-sinusoidal intermittend 2Hz signal\nx1 = np.sin(np.sin(np.sin(np.sin(np.sin(np.sin(np.sin(2*np.pi*freq*time_vect))))))) / 0.5\n\n# Bursting 30Hz oscillation\nx2 = am *  0.5 * np.cos(2*np.pi*30*time_vect)\n\n# Sum them together\nx = x1 + x2\n\n# Quick summary figure\nplt.figure(figsize=(8, 4))\nplt.plot(time_vect, x)\nplt.xlim(0,  3)\n\n# sphinx_gallery_thumbnail_number = 6"
      ]
    },
    {
      "cell_type": "markdown",
      "metadata": {},
      "source": [
        "Let's run the default mask sift, where mask frequency is determined from zero crossings of the signal.\n\n"
      ]
    },
    {
      "cell_type": "code",
      "execution_count": null,
      "metadata": {
        "collapsed": false
      },
      "outputs": [],
      "source": [
        "imf = emd.sift.mask_sift(x, max_imfs=4)\nemd.plotting.plot_imfs(imf, cmap=True, scale_y=True)"
      ]
    },
    {
      "cell_type": "markdown",
      "metadata": {},
      "source": [
        "We can see that the result is not great. Bursting beta is in IMF-1, but the\nnon-sinusoidal oscillation is split between IMF-2 and IMF-4. This is because\nthe waveform is highly non-sinusoidal and spans a lot of frequencies,\nconfusing the default mask sift. Let's try the same thing, but now with\ncustom mask frequencies.\n\n"
      ]
    },
    {
      "cell_type": "code",
      "execution_count": null,
      "metadata": {
        "collapsed": false
      },
      "outputs": [],
      "source": [
        "mask = np.array([60, 30, 24, 2, 1, 0.5])/sample_rate\nimf = emd.sift.mask_sift(x, max_imfs=5, mask_freqs=mask)\nemd.plotting.plot_imfs(imf, cmap=True, scale_y=True, time_vect=time_vect)"
      ]
    },
    {
      "cell_type": "markdown",
      "metadata": {},
      "source": [
        "Better! Most of the 2Hz oscillation is now in IMF-4 and most of bursting beta\nin IMF-2. However, it's still not perfect - beta is slightly split between\nIMF-1 and IMF-2 and we have an unnecessary 'empty' mode IMF-3. Finding a mask\nthat balances all of these issues can be an arduous manual process. How could\nwe do this automatically? Let's come back to our original sift and look at\nthe mean instantaneous frequencies of the modes weighted by instantaneous\namplitude.\n\n"
      ]
    },
    {
      "cell_type": "code",
      "execution_count": null,
      "metadata": {
        "collapsed": false
      },
      "outputs": [],
      "source": [
        "imf = emd.sift.mask_sift(x, max_imfs=4)\nIP,IF,IA = emd.spectra.frequency_transform(imf, sample_rate, 'nht')\nprint(np.average(IF, 0, weights=IA**2))"
      ]
    },
    {
      "cell_type": "markdown",
      "metadata": {},
      "source": [
        "## Automated Mask Selection\n\n"
      ]
    },
    {
      "cell_type": "markdown",
      "metadata": {},
      "source": [
        "Even though the modes are split, frequencies of the first two modes are close\nto the ground truths of 30Hz and 2Hz that we know. What happens if we take\nthese frequencies as the mask for masked sift?\n\n"
      ]
    },
    {
      "cell_type": "code",
      "execution_count": null,
      "metadata": {
        "collapsed": false
      },
      "outputs": [],
      "source": [
        "# Compute the default mask sift\nimf = emd.sift.mask_sift(x, max_imfs=4)\n\n# Take the mean IF as new mask, compute mask sift again and plot\nIP,IF,IA = emd.spectra.frequency_transform(imf, sample_rate, 'nht')\nmask_1 = np.average(IF, 0, weights=IA**2) / sample_rate\nimf = emd.sift.mask_sift(x, max_imfs=4, mask_freqs=mask_1)\nemd.plotting.plot_imfs(imf, cmap=True, scale_y=True, time_vect=time_vect)"
      ]
    },
    {
      "cell_type": "markdown",
      "metadata": {},
      "source": [
        "We have now removed the empty mode and the\nbursting beta in is entirely IMF-1. It's certainly an improvement on the default sift.\nLet's repeat this process ten times and track what happens to average\nfrequencies of the first two IMFs.\n\n"
      ]
    },
    {
      "cell_type": "code",
      "execution_count": null,
      "metadata": {
        "collapsed": false
      },
      "outputs": [],
      "source": [
        "# Compute the default mask sift\nimf, mask_0 = emd.sift.mask_sift(x, max_imfs=4, ret_mask_freq=True)\n\n# Take the mean IF as new mask, compute mask sift again and plot\nIP,IF,IA = emd.spectra.frequency_transform(imf, sample_rate, 'nht')\nmask = np.average(IF, 0, weights=IA**2) / sample_rate\n\n# Save all masks:\nmask_all = np.zeros((3, 12))\nmask_all[:, 0] = mask_0[:3]\nmask_all[:, 1] = mask[:3]\n\nfor i in range(10):\n    imf = emd.sift.mask_sift(x, max_imfs=4, mask_freqs=mask)\n    IP,IF,IA = emd.spectra.frequency_transform(imf, sample_rate, 'nht')\n    mask = np.average(IF, 0, weights=IA**2) / sample_rate\n    mask_all[:, i+2] = mask[:3]\n\nplt.figure()\nfor i in range(2):\n    plt.plot(mask_all[i, :]*sample_rate)\nplt.xlabel('Iteration #')\nplt.ylabel('Mask frequency [Hz]')\nplt.show()"
      ]
    },
    {
      "cell_type": "markdown",
      "metadata": {},
      "source": [
        "The iteration process rapidly converged on the ground truth frequencies, 2Hz\nand 30Hz! This is the essence of iterated masking EMD (itEMD). By finding the\nequilibrium between masks and IMF frequencies, we automatically extract\noscillations of interest in a data-driven way. Let's apply itEMD directly and\nshow the result.\n\n"
      ]
    },
    {
      "cell_type": "code",
      "execution_count": null,
      "metadata": {
        "collapsed": false
      },
      "outputs": [],
      "source": [
        "imf = emd.sift.iterated_mask_sift(x, sample_rate=sample_rate, max_imfs=3)\nemd.plotting.plot_imfs(imf, cmap=True, scale_y=True)"
      ]
    },
    {
      "cell_type": "markdown",
      "metadata": {},
      "source": [
        "And that's it! We have identified both the bursting beta and a non-sinusoidal\noscillation automatically and without 'empty' modes between them.\n\nThis decomposition has a clear Hilbert-Huang transform in the amplitude\nmodulations of the 30Hz signal and within-cycle instantaneous frequency\nvariability of the 2Hz signal are clearly visible.\n\n"
      ]
    },
    {
      "cell_type": "code",
      "execution_count": null,
      "metadata": {
        "collapsed": false
      },
      "outputs": [],
      "source": [
        "IP, IF, IA = emd.spectra.frequency_transform(imf, sample_rate, 'nht')\nf, hht = emd.spectra.hilberthuang(IF, IA, (1, 50, 49, 'log'), sum_time=False)\n\nplt.figure(figsize=(8,4))\nax = plt.subplot(111)\nemd.plotting.plot_hilberthuang(hht, time_vect, f,\n                               log_y=True, cmap='ocean_r',\n                               ax=ax, time_lims=(0.5, 2))"
      ]
    },
    {
      "cell_type": "markdown",
      "metadata": {},
      "source": [
        "## Oscillations in Noise\n\n"
      ]
    },
    {
      "cell_type": "markdown",
      "metadata": {},
      "source": [
        "Lets take a look at how itEMD performs on a couple of noisy signals. Here we\nlook at a dynamic 15Hz oscillation embedded in white noise. The itEMD is able\nto isolate the oscillation into a single component.\n\n"
      ]
    },
    {
      "cell_type": "code",
      "execution_count": null,
      "metadata": {
        "collapsed": false
      },
      "outputs": [],
      "source": [
        "# Define and simulate a simple signal\npeak_freq = 15\nsample_rate = 256\nseconds = 3\nnoise_std = .4\nx = emd.simulate.ar_oscillator(peak_freq, sample_rate, seconds,\n                          noise_std=noise_std, random_seed=42, r=.96)[:, 0]\nx = x*1e-4\n\nimf = emd.sift.iterated_mask_sift(x, sample_rate=sample_rate, max_imfs=3)\nemd.plotting.plot_imfs(imf, cmap=True, scale_y=True)"
      ]
    },
    {
      "cell_type": "markdown",
      "metadata": {},
      "source": [
        "And, finally, we look at the how iterated mask sifting handles the signal\nfrom the Holospectrum tutorial. This case contains several oscillations with\ncomplex amplitude modulations. These are nicely separated into two IMFs.\n\n"
      ]
    },
    {
      "cell_type": "code",
      "execution_count": null,
      "metadata": {
        "collapsed": false
      },
      "outputs": [],
      "source": [
        "seconds = 4\nsample_rate = 200\nt = np.linspace(0, seconds, seconds*sample_rate)\n\n# First we create a slow 4.25Hz oscillation with a 0.5Hz amplitude modulation\nslow = np.sin(2*np.pi*5*t) * (.5+(np.cos(2*np.pi*.5*t)/2))\n\n# Second, we create a faster 37Hz oscillation that is amplitude modulated by the first.\nfast = .5*np.sin(2*np.pi*37*t) * (slow+(.5+(np.cos(2*np.pi*.5*t)/2)))\n\n# We create our signal by summing the oscillation and adding some noise\nx = slow+fast + np.random.randn(*t.shape)*.05\n\nimf = emd.sift.iterated_mask_sift(x, sample_rate=sample_rate, max_imfs=5)\nemd.plotting.plot_imfs(imf, cmap=True, scale_y=True)"
      ]
    },
    {
      "cell_type": "markdown",
      "metadata": {},
      "source": [
        "Depending on the nature of the data, some itEMD options may need to be\nmodified. For instance, the max_iter argument can be increased if itEMD\nreaches the maximum number of iterations, or iter_th can be modified to make\nthe convergence criterion more stringent.\n\nTo isolate very transient and infrequent oscillations, it may be a good idea\nto try different instantaneous amplitude weighting for the iteration process\n(keyword argument w_method). Finally, if the data is non-stationary such that\ndifferent masks might be appropriate for different segments of the signal\nthen the time-series should first be segmented and itEMD applied to\nquasi-stationary segments as it assumes one equilibrium can be found.\n\nFor more information, see the documentation for emd and Fabus et al (2021)\nJournal of Neurophysiology..\n\n"
      ]
    },
    {
      "cell_type": "markdown",
      "metadata": {},
      "source": [
        "## Further Reading & References\n\n"
      ]
    },
    {
      "cell_type": "markdown",
      "metadata": {},
      "source": [
        "Marco S. Fabus, Andrew J. Quinn, Catherine E. Warnaby, and Mark W. Woolrich (2021).\nAutomatic decomposition of electroptysiological data into distinct nonsinusoidal oscillatory modes.\nJournal of Neurophysiology 2021 126:5, 1670-1684.\nhttps://doi.org/10.1152/jn.00315.2021\n\n"
      ]
    }
  ],
  "metadata": {
    "kernelspec": {
      "display_name": "Python 3",
      "language": "python",
      "name": "python3"
    },
    "language_info": {
      "codemirror_mode": {
        "name": "ipython",
        "version": 3
      },
      "file_extension": ".py",
      "mimetype": "text/x-python",
      "name": "python",
      "nbconvert_exporter": "python",
      "pygments_lexer": "ipython3",
      "version": "3.7.9"
    }
  },
  "nbformat": 4,
  "nbformat_minor": 0
}