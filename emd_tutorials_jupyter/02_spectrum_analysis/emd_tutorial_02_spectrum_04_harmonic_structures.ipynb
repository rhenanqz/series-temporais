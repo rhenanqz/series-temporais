{
  "cells": [
    {
      "cell_type": "code",
      "execution_count": null,
      "metadata": {
        "collapsed": false
      },
      "outputs": [],
      "source": [
        "%matplotlib inline"
      ]
    },
    {
      "cell_type": "markdown",
      "metadata": {},
      "source": [
        "\n# Understanding Harmonic Structures\nIn this tutorial, we will explore a seemingly basic question: in analysing\noscillatory waveforms, what is a harmonic? We will start with explaining\nnonsinusoidal shapes in terms of harmonics. Then we will define instantaneous\nfrequency and use it think about when two oscillations may be considered\nindependent as opposed to being harmonics. We will use this intuition to\nformally define harmonic structures. Spoiler: it's not as straightforward\nas you may think!\n\nThis tutorial accompanies the following paper which contains a more mathematical exposition of the topic and more detailed examples:\n\n    Fabus, M. S., Woolrich, M. W., Warnaby, C. W., & Quinn, A. J. (2021).\n    Understanding Harmonic Structures Through Instantaneous Frequency. Cold\n    Spring Harbor Laboratory. https://doi.org/10.1101/2021.12.21.473676\n"
      ]
    },
    {
      "cell_type": "markdown",
      "metadata": {},
      "source": [
        "Let's start by importing necessary Python modules:\n\n"
      ]
    },
    {
      "cell_type": "code",
      "execution_count": null,
      "metadata": {
        "collapsed": false
      },
      "outputs": [],
      "source": [
        "import emd\nimport matplotlib.pyplot as plt\nimport numpy as np\nfrom scipy import signal\nimport ipywidgets\n\nplt.rcParams['figure.dpi'] = 100"
      ]
    },
    {
      "cell_type": "markdown",
      "metadata": {},
      "source": [
        "## Harmonics and nonsinusoidal signals\nIf you've ever heard of the term 'harmonic', your current definition probably\naligns well with that taken from Wikipedia: *A harmonic is a wave with a\nfrequency that is a positive integer multiple of the frequency of the\noriginal wave, known as the fundamental frequency*. Harmonics are important\nacross disciplines. We see them in Physics when solving partial differential\nequations, in Music when considering chords, and even in Neuroscience when we\nobserve nonsinusoidal oscillations `Cole & Voytek (2019) <https://doi.org/10.1016/j.tics.2016.12.008>`_.\n\nIt is the last case that we wish to elaborate. The first important concept is\nthat **nonsinusoidal waveforms have harmonics in their spectra**.\n\nLet's see this in action. We create a 10Hz square wave and look at its Fourier spectrum.\n\n"
      ]
    },
    {
      "cell_type": "code",
      "execution_count": null,
      "metadata": {
        "collapsed": false
      },
      "outputs": [],
      "source": [
        "# Sampling rate and time\nfs = 200\nt = np.linspace(0, 0.5, int(0.5*fs))\n\n# Square wave signal\nsig = np.sin(2*np.pi*10*t)\nsquare_wave = signal.square(2*np.pi*10*t, duty=(sig+1)/2)\n\n# Welch's Periodogram\nf, pxx = signal.welch(square_wave, fs=fs, nperseg=100)\n\n# Plot\nplt.figure(figsize=(6, 3))\nplt.subplot(121)\nplt.plot(t, square_wave)\nplt.title('Square wave')\nplt.xlabel('Time [s]')\n\nplt.subplot(122)\nplt.plot(f, pxx)\nplt.title('Power Spectral Density')\nplt.xlabel('Frequency [Hz]')\nplt.tight_layout()"
      ]
    },
    {
      "cell_type": "markdown",
      "metadata": {},
      "source": [
        "We can see the dominant 10Hz peak in the spectrum as well as harmonic peaks\nat 30Hz, 50Hz, etc. They appear at integer frequency ratios and are sometimes\nalso referred to as 3:1 coupling, 5:1 coupling, etc. Identifying harmonics in\ndatasets is important. Their presence can lead to misleading connectivity\nresults `Gerber et al. (2016) <https://journals.plos.org/plosone/article?id=10.1371/journal.pone.0167351>`_. \nMoreover, changes in waveform shape (that is equivalently\nchanges in the behaviour of harmonics) have been shown to have functional and\nclinical significance `Cole & Voytek (2019) <https://doi.org/10.1016/j.tics.2016.12.008>`_.\nSo is it as simple as looking for signals at integer frequency multiples of\nyour main peak?\n\nUnfortunately not. In the plots below we show three waveforms, all of which\nare a combination of a 10Hz and a 20Hz signal. Only the one on the left is a\nsingle, sensible nonsinusoidal oscillation despite this! The other two have\nlarge secondary extrema, making it more appropriate to say they are composed\nof multiple separate oscillations.\n\n"
      ]
    },
    {
      "cell_type": "code",
      "execution_count": null,
      "metadata": {
        "collapsed": false
      },
      "outputs": [],
      "source": [
        "# Sampling rate and time\nfs = 200\nN = int(0.25*fs)\nt = np.linspace(0, 0.25, N)\n\n# Signals\nx1 = np.sin(2*np.pi*10*t) + 0.25*np.sin(2*np.pi*20*t+np.pi/2)\nx2 = np.sin(2*np.pi*10*t) + np.sin(2*np.pi*20*t)\nx3 = np.sin(2*np.pi*10*t) + 0.5*np.sin(2*np.pi*20*t + np.random.uniform(np.pi, 1.5*np.pi, size=N))\n\n# Plot\nplt.figure(figsize=(6, 3))\nplt.subplot(131)\nplt.plot(t, x1)\nplt.xlabel('Time [s]')\n\nplt.subplot(132)\nplt.plot(t, x2)\nplt.xlabel('Time [s]')\n\nplt.subplot(133)\nplt.plot(t, x3)\nplt.xlabel('Time [s]')\n\nplt.tight_layout()"
      ]
    },
    {
      "cell_type": "markdown",
      "metadata": {},
      "source": [
        "The difference between these plots is the amplitude ratios of the slow and\nfast signals and changes in their phase relationship. In order to properly\nunderstand what harmonics are and when they appear in our data, we will have\nto think a bit more about such cases. To help us, we now need to introduce\nthe concept of *instantaneous frequency*.\n\n"
      ]
    },
    {
      "cell_type": "markdown",
      "metadata": {},
      "source": [
        "## Instantaneous Frequency\n(For more information on this topic, check out the tutorials on this website,\nespecially `Waveform shape & Instantaneous Frequency <https://emd.readthedocs.io/en/stable/emd_tutorials/03_cycle_ananlysis/emd_tutorial_03_cycle_04_waveform.html>`_.)\n\nApart from the raw signal and its spectrum, there is yet another equivalent\nway of looking at nonsinusoidal shapes, and that is through their\nInstantaneous Frequency (IF) trace. Let's calculate it for the left waveform\nabove using the Hilbert transform and see what it looks like.\n\n"
      ]
    },
    {
      "cell_type": "code",
      "execution_count": null,
      "metadata": {
        "collapsed": false
      },
      "outputs": [],
      "source": [
        "# Prepare longer version of the signal to ignore edge effects\nN = int(1*fs)\nt = np.linspace(0, 1, N)\nx1 = np.sin(2*np.pi*10*t) + 0.25*np.sin(2*np.pi*20*t+np.pi/2)\n\n# Compute the instantaneous frequency\nIP, IF, IA = emd.spectra.frequency_transform(x1, fs, 'hilbert')\n\n# Plot\nplt.figure(figsize=(6, 4))\nplt.subplot(211)\nplt.plot(t, x1)\nplt.xlim(0.1, 0.9)\nplt.ylim(-1.5, 1)\nplt.ylabel('Signal Amplitude')\nplt.title('Nonsinusoidal Waveform')\n\nplt.subplot(212)\nplt.plot(t, IF)\nplt.xlabel('Time [s]')\nplt.xlim(0.1, 0.9)\nplt.ylim(5, 15)\nplt.ylabel('IF [Hz]')\nplt.title('Instantaneous Frequency')\n\nplt.tight_layout()"
      ]
    },
    {
      "cell_type": "markdown",
      "metadata": {},
      "source": [
        "We can see the sharp troughs have lower instantaneous frequency and the wide\npeaks have slower instantaneous frequency. We can think of IF as how quickly\nthe cycle is progressing at different cycle phases. As such it fully captures\nchanges in waveform shape for nonsinusoidal oscillations.\n\nNow let's look at the IF traces for the other two cases from above.\n\n"
      ]
    },
    {
      "cell_type": "code",
      "execution_count": null,
      "metadata": {
        "collapsed": false
      },
      "outputs": [],
      "source": [
        "# Prepare longer version of the signal to ignore edge effects\nN = int(1*fs)\nt = np.linspace(0, 1, N)\nx2 = np.sin(2*np.pi*10*t) + np.sin(2*np.pi*20*t)\nx3 = np.sin(2*np.pi*10*t) + 0.5*np.sin(2*np.pi*20*t + np.random.uniform(0, 2*np.pi, size=N))\ndata = [x2, x3]\n\n# Compute the instantaneous frequency and plot\nfig, axs = plt.subplots(2, 2, figsize=(6, 4))\n\nfor i, x in enumerate(data):\n    IP, IF, IA = emd.spectra.frequency_transform(x, fs, 'hilbert')\n    ax = axs[0][i]\n    ax2 = axs[1][i]\n    ax.plot(t, x)\n    ax.set_xlim(0.1, 0.9)\n    ax.set_ylabel('Signal Amplitude')\n\n    ax2.plot(t, IF)\n    ax2.set_xlim(0.1, 0.9)\n    ax2.set_xlabel('Time [s]')\n    ax2.set_ylabel('IF [Hz]')\n    ax2.set_title('Instantaneous Frequency')\n\nplt.tight_layout()"
      ]
    },
    {
      "cell_type": "markdown",
      "metadata": {},
      "source": [
        "Interesting! We can see that cases where the combination of two oscillations\nresults does not result in a well-formed harmonic structure (that is,\nsecondary extrema are present or the waveform does not repeat from cycle to\ncycle), the instantaneous frequency informs us this is the case. When large\nsecondary extrema are present, instantaneous frequency has negative values\nand is thus not well-defined (what would a negative frequency oscillation\neven mean?). When a constant phase relationship is not present, IF also\njitters all over the place, potentially going negative.\n\nHere, we plot an example simulation - the ``Nonlinearity`` parameter sets the\nIF range.\n\n"
      ]
    },
    {
      "cell_type": "code",
      "execution_count": null,
      "metadata": {
        "collapsed": false
      },
      "outputs": [],
      "source": [
        "def harmonics_plot(Nonlinearity, AM_freq):\n    k = Nonlinearity\n    a_f = AM_freq\n    t = np.linspace(0, 10, 500)\n    IF = 2*np.pi*(1+k*np.cos(2*np.pi*t))\n    a = 0.5*(1 + np.sin(a_f*2*np.pi*t))\n    y = a * np.cos(2*np.pi*(t + k/(2*np.pi) * np.sin(2*np.pi*t)))\n\n    fig, (ax2, ax1) = plt.subplots(2, 1, figsize=(6, 4))\n    ax1.plot(t, IF)\n    ax1.plot(t, [0 for _ in t], color='grey')\n\n    if np.any(IF<0):\n        ax1.scatter(t[IF<0], IF[IF<0], color='red', s=5)\n    ax1.set_ylabel('IF [Hz]')\n    ax1.set_ylim(-7, 19)\n    ax1.set_yticks([-5, 0, 5, 10, 15])\n    ax1.set_xlabel('Time [s]')\n\n    ax2.plot(t, y)\n    ax2.plot(t, a, color='gray')\n    ax2.set_ylabel('Signal Amplitude')\n    plt.tight_layout()\n\nNonlinearity = 0.6  # Can vary between 0 and 2\nAM_freq = 0.05  # Can vary between 0 and 0.3\n\nharmonics_plot(Nonlinearity, AM_freq)"
      ]
    },
    {
      "cell_type": "markdown",
      "metadata": {},
      "source": [
        "Before we use the above intuitions to formalise what a harmonic is, have a\nplay with the interactive IF simulation below.\n\nIf you are reading this in an interactive notebook or active python script,\nyou can run the following cell to create an interactive visualisation of this\nfigure. You can adjust the Nonlinearity and AM frequency parameters with\ntheir respective sliders.\n\nTry adjusting the Nonlinearity parameter to change the IF range. Notice how\nsecondary extrema appear when IF crosses into negative values. As a bonus,\nnotice this still holds true even when the oscillation experiences slow\namplitude modulation, as is often the case for neurophysiological data.\n\n<div class=\"alert alert-info\"><h4>Note</h4><p>This interactive widget requires a python backend to run. It will run in\n   an active python session but cannot be dynamically rendered on the static\n   webpage. Please open this tutorial in the accompanying\n   `Binder Notebook <https://mybinder.org/v2/gl/emd-dev%2Femd/HEAD?filepath=doc%2Fsource%2F_notebooks>`_\n   to see the interactive elements!</p></div>\n\n"
      ]
    },
    {
      "cell_type": "code",
      "execution_count": null,
      "metadata": {
        "collapsed": false
      },
      "outputs": [],
      "source": [
        "ipywidgets.interact(harmonics_plot, Nonlinearity=ipywidgets.FloatSlider(min=0, max=2, step=0.2, value=0.6),\n                    AM_freq=ipywidgets.FloatSlider(min=0, max=0.3, step=0.05, value=0.05))"
      ]
    },
    {
      "cell_type": "markdown",
      "metadata": {},
      "source": [
        "Finally, you can play with our `shape generator <http://shapegen.herokuapp.com/>`_\nto construct any crazy waveform you want and explore its instantaneous\nfrequency. For more information on using the shape generator, see\nInstructions on its website.\n\n"
      ]
    },
    {
      "cell_type": "markdown",
      "metadata": {},
      "source": [
        "## Formal Harmonic Conditions\nNow that we've seen how instantaneous frequency can distinguish between\nambiguous cases of summed signals, let's use it to formally define what\nharmonics are. We shall say that a resultant signal $x(t)$ formed as a\nsum of $N$ sinusoids ordered by increasing frequency, $x(t) =\n\\sum_{n=1}^N a_n \\cos(\\omega_n t + \\phi_n)$\n\n1. All sinusoids have an integer frequency relationship to the base and a constant phase relationship, i.e. $\\omega_n = n \\omega_0, n \\in \\mathbb{Z}$ and $\\frac{\\mathrm{d}\\phi_n}{\\mathrm{d}t}=0$.\n2. The joint instantaneous frequency $f_J$ for the resultant signal is well-defined for all $t$, i.e. $(f_J \\geq 0) \\forall t$.\n\nIn simple terms, the first condition guarantees the joint function retains\nthe same period as the base and the second condition makes sure we have no\nprominent secondary extrema. In theory, we now have a simple recipe for\nidentifying harmonics! In practice, more useful relationships can be derived\nfrom the above two conditions. For a full exposition, please see the\nmanuscript associated with this notebook.\n\nIt turns out the second condition also has a natural interpretation in terms\nof extrema counting and Empirical Mode Decomposition (EMD). For two signals,\nit is equivalent to demanding $af\u22641$, where a and f are the amplitude and\nfrequency ratios of the signals respectively. For more involved discussion\nabout this, as well as an application to simulated and experimental\nneurophysiological data, check out the full paper.\n\n"
      ]
    },
    {
      "cell_type": "markdown",
      "metadata": {},
      "source": [
        "## Further Reading & References\n\n"
      ]
    },
    {
      "cell_type": "markdown",
      "metadata": {},
      "source": [
        "Fabus, M., Woolrich, M., Warnaby, C. and Quinn, A., (2021)\nUnderstanding Harmonic Structures Through Instantaneous Frequency. BiorXiv\nhttps://doi.org/10.1101/2021.12.21.473676\n\n"
      ]
    }
  ],
  "metadata": {
    "kernelspec": {
      "display_name": "Python 3",
      "language": "python",
      "name": "python3"
    },
    "language_info": {
      "codemirror_mode": {
        "name": "ipython",
        "version": 3
      },
      "file_extension": ".py",
      "mimetype": "text/x-python",
      "name": "python",
      "nbconvert_exporter": "python",
      "pygments_lexer": "ipython3",
      "version": "3.7.9"
    }
  },
  "nbformat": 4,
  "nbformat_minor": 0
}